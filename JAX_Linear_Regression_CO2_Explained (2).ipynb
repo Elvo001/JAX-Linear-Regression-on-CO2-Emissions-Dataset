{
  "cells": [
    {
      "cell_type": "markdown",
      "id": "53cb8977",
      "metadata": {
        "id": "53cb8977"
      },
      "source": [
        "# 🔢 JAX Linear Regression on CO2 Emissions Dataset\n",
        "This notebook replicates a simple linear regression using JAX, NumPy, and Matplotlib, adapted from the IBM ML with Python course."
      ]
    },
    {
      "cell_type": "code",
      "execution_count": null,
      "id": "2ccc3f03",
      "metadata": {
        "id": "2ccc3f03"
      },
      "outputs": [],
      "source": [
        "!pip install --upgrade jax jaxlib matplotlib"
      ]
    },
    {
      "cell_type": "markdown",
      "id": "7da9433a",
      "metadata": {
        "id": "7da9433a"
      },
      "source": [
        "📝 **Explanation:**\n",
        "This installs the required JAX and plotting libraries in your Colab or local environment."
      ]
    },
    {
      "cell_type": "code",
      "execution_count": null,
      "id": "d71ae6c3",
      "metadata": {
        "id": "d71ae6c3"
      },
      "outputs": [],
      "source": [
        "import jax.numpy as jnp\n",
        "from jax import grad, jit, vmap\n",
        "import matplotlib.pyplot as plt\n",
        "import numpy as np\n",
        "from sklearn.model_selection import train_test_split\n",
        "from sklearn.metrics import mean_squared_error, r2_score\n"
      ]
    },
    {
      "cell_type": "markdown",
      "id": "49be4d4d",
      "metadata": {
        "id": "49be4d4d"
      },
      "source": [
        "📝 **Explanation:**\n",
        "Here, we import JAX, NumPy, matplotlib, and supporting libraries for data processing and evaluation."
      ]
    },
    {
      "cell_type": "code",
      "execution_count": null,
      "id": "eb0c8355",
      "metadata": {
        "id": "eb0c8355"
      },
      "outputs": [],
      "source": [
        "import pandas as pd\n",
        "\n",
        "url = 'https://cf-courses-data.s3.us.cloud-object-storage.appdomain.cloud/IBMDeveloperSkillsNetwork-ML0101EN-SkillsNetwork/labs/Module%202/data/FuelConsumptionCo2.csv'\n",
        "df = pd.read_csv(url)\n",
        "\n",
        "# Extract and prepare data\n",
        "cdf = df[['ENGINESIZE','CYLINDERS','FUELCONSUMPTION_COMB','CO2EMISSIONS']]\n",
        "X = cdf['ENGINESIZE'].values\n",
        "y = cdf['CO2EMISSIONS'].values\n",
        "X_train, X_test, y_train, y_test = train_test_split(X, y, test_size=0.2, random_state=42)\n"
      ]
    },
    {
      "cell_type": "markdown",
      "id": "043f46ec",
      "metadata": {
        "id": "043f46ec"
      },
      "source": [
        "📝 **Explanation:**\n",
        "We load the fuel consumption dataset, filter relevant columns, and split it into training and testing sets."
      ]
    },
    {
      "cell_type": "code",
      "execution_count": null,
      "id": "3a960bc5",
      "metadata": {
        "id": "3a960bc5"
      },
      "outputs": [],
      "source": [
        "plt.scatter(X_train, y_train, color='blue')\n",
        "plt.xlabel(\"Engine Size\")\n",
        "plt.ylabel(\"CO2 Emissions\")\n",
        "plt.title(\"Training Data\")\n",
        "plt.show()\n"
      ]
    },
    {
      "cell_type": "markdown",
      "id": "137fd2da",
      "metadata": {
        "id": "137fd2da"
      },
      "source": [
        "📝 **Explanation:**\n",
        "This visualizes the training data — Engine Size vs CO2 Emissions — as a scatter plot."
      ]
    },
    {
      "cell_type": "code",
      "execution_count": null,
      "id": "5f3e6b51",
      "metadata": {
        "id": "5f3e6b51"
      },
      "outputs": [],
      "source": [
        "# Convert to jnp arrays\n",
        "X_train_jax = jnp.array(X_train).reshape(-1, 1)\n",
        "y_train_jax = jnp.array(y_train)\n",
        "\n",
        "# Add bias term\n",
        "X_b = jnp.hstack([jnp.ones_like(X_train_jax), X_train_jax])\n",
        "\n",
        "# Initialize weights\n",
        "key = jnp.array([0])\n",
        "theta = jnp.zeros((2,))\n",
        "\n",
        "# Prediction function\n",
        "def predict(X, theta):\n",
        "    return jnp.dot(X, theta)\n",
        "\n",
        "# Loss function (MSE)\n",
        "def mse_loss(theta, X, y):\n",
        "    preds = predict(X, theta)\n",
        "    return jnp.mean((preds - y)**2)\n",
        "\n",
        "# Gradient descent\n",
        "learning_rate = 0.01\n",
        "n_iterations = 1000\n",
        "\n",
        "for i in range(n_iterations):\n",
        "    grads = grad(mse_loss)(theta, X_b, y_train_jax)\n",
        "    theta -= learning_rate * grads\n",
        "\n",
        "print(\"Learned parameters:\", theta)\n"
      ]
    },
    {
      "cell_type": "markdown",
      "id": "b367db59",
      "metadata": {
        "id": "b367db59"
      },
      "source": [
        "📝 **Explanation:**\n",
        "We convert training data into JAX arrays, add a bias column, and initialize model weights."
      ]
    },
    {
      "cell_type": "code",
      "execution_count": null,
      "id": "f91db71e",
      "metadata": {
        "id": "f91db71e"
      },
      "outputs": [],
      "source": [
        "# Evaluate on test set\n",
        "X_test_jax = jnp.array(X_test).reshape(-1, 1)\n",
        "X_test_b = jnp.hstack([jnp.ones_like(X_test_jax), X_test_jax])\n",
        "y_test_pred = predict(X_test_b, theta)\n",
        "\n",
        "# Metrics\n",
        "mse = mean_squared_error(y_test, y_test_pred)\n",
        "r2 = r2_score(y_test, y_test_pred)\n",
        "\n",
        "print(\"MSE:\", mse)\n",
        "print(\"R²:\", r2)\n"
      ]
    },
    {
      "cell_type": "markdown",
      "id": "692f8fb1",
      "metadata": {
        "id": "692f8fb1"
      },
      "source": [
        "📝 **Explanation:**\n",
        "This block defines the prediction and MSE loss functions, then performs gradient descent to fit the model."
      ]
    },
    {
      "cell_type": "code",
      "execution_count": null,
      "id": "6d7361ab",
      "metadata": {
        "id": "6d7361ab"
      },
      "outputs": [],
      "source": [
        "plt.scatter(X_test, y_test, color='blue', label='Actual')\n",
        "plt.plot(X_test, np.array(y_test_pred), color='red', label='Predicted')\n",
        "plt.xlabel(\"Engine Size\")\n",
        "plt.ylabel(\"CO2 Emissions\")\n",
        "plt.title(\"JAX Linear Regression Predictions\")\n",
        "plt.legend()\n",
        "plt.show()\n"
      ]
    },
    {
      "cell_type": "markdown",
      "id": "39009d59",
      "metadata": {
        "id": "39009d59"
      },
      "source": [
        "📝 **Explanation:**\n",
        "We reshape the test data, generate predictions using the learned weights, and compute MSE and R² metrics."
      ]
    }
  ],
  "metadata": {
    "colab": {
      "provenance": []
    }
  },
  "nbformat": 4,
  "nbformat_minor": 5
}